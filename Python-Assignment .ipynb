{
 "cells": [
  {
   "cell_type": "code",
   "execution_count": 5,
   "id": "a9e2b766",
   "metadata": {},
   "outputs": [
    {
     "name": "stdout",
     "output_type": "stream",
     "text": [
      "Input the radius of the circle : 3\n",
      "The area of the circle with radius 3.0 is: 28.274333882308138\n"
     ]
    }
   ],
   "source": [
    " # question 1\n",
    "    \n",
    "from math import pi\n",
    "\n",
    "r = float(input(\"Input the radius of the circle : \"))\n",
    "area = pi * r ** 2\n",
    "print(\"The area of the circle with radius \" + str(r) + \" is: \" + str(area))\n"
   ]
  },
  {
   "cell_type": "code",
   "execution_count": 1,
   "id": "c8f83069",
   "metadata": {},
   "outputs": [
    {
     "name": "stdout",
     "output_type": "stream",
     "text": [
      "Enter the nameAnisha\n",
      "Name : Anisha\n",
      "Enter the roll number12\n",
      "Roll no : 12\n",
      "Enter the mark98\n",
      "Marks : 98\n"
     ]
    }
   ],
   "source": [
    "# question 2\n",
    "\n",
    "Name = input(\"Enter the name\")\n",
    "print(\"Name :\",Name)\n",
    "Rollno = int(input(\"Enter the roll number\"))\n",
    "print(\"Roll no :\", Rollno)\n",
    "mark = int(input(\"Enter the mark\"))\n",
    "print(\"Marks :\",mark)"
   ]
  },
  {
   "cell_type": "code",
   "execution_count": 3,
   "id": "446c4864",
   "metadata": {},
   "outputs": [
    {
     "name": "stdout",
     "output_type": "stream",
     "text": [
      "Largest number is: 47\n"
     ]
    }
   ],
   "source": [
    "# question 3\n",
    "\n",
    "list1 = [12,3,47,10]\n",
    "list1.sort()\n",
    "print(\"Largest number is:\", list1[-1])\n"
   ]
  },
  {
   "cell_type": "code",
   "execution_count": 4,
   "id": "7f2be560",
   "metadata": {},
   "outputs": [
    {
     "name": "stdout",
     "output_type": "stream",
     "text": [
      "10\n",
      "20\n",
      "55\n"
     ]
    }
   ],
   "source": [
    "# question 5\n",
    "\n",
    "list = [10,20,33,46,55]\n",
    "\n",
    "for num in list:\n",
    "    \n",
    "      if num % 5 == 0:\n",
    "           print(num)\n"
   ]
  },
  {
   "cell_type": "code",
   "execution_count": 4,
   "id": "55d279e1",
   "metadata": {},
   "outputs": [
    {
     "name": "stdout",
     "output_type": "stream",
     "text": [
      "10  is not a prime number\n"
     ]
    }
   ],
   "source": [
    "# question 6\n",
    "\n",
    "num = 10\n",
    "i = 2\n",
    "while i<=int(num/2):\n",
    "\n",
    "    if num % i ==0:\n",
    "        print(num , \" is not a prime number\")\n",
    "        break\n",
    "    else:\n",
    "        print(num,\"is a prime number\")\n",
    "        break"
   ]
  },
  {
   "cell_type": "code",
   "execution_count": 5,
   "id": "bad9103a",
   "metadata": {},
   "outputs": [
    {
     "name": "stdout",
     "output_type": "stream",
     "text": [
      "[70, 30, 40, 10]\n"
     ]
    }
   ],
   "source": [
    "# question 7\n",
    "\n",
    "list = [10,40,30,70]\n",
    "newlist=[]\n",
    "for i in range(1,len(list)+1):\n",
    "    newlist.append(list[-i])\n",
    "print(newlist)\n"
   ]
  },
  {
   "cell_type": "code",
   "execution_count": 6,
   "id": "44679b40",
   "metadata": {},
   "outputs": [
    {
     "name": "stdout",
     "output_type": "stream",
     "text": [
      "* \n",
      "* * \n",
      "* * * \n",
      "* * * * \n"
     ]
    }
   ],
   "source": [
    "# question 8\n",
    "\n",
    "i = 1\n",
    "while i<=4:\n",
    "    j = 1\n",
    "    while j<=i:\n",
    "        print(\"*\",end=' ')\n",
    "        j = j+1\n",
    "    print()\n",
    "    i = i+1"
   ]
  },
  {
   "cell_type": "code",
   "execution_count": 9,
   "id": "4d6d27b0",
   "metadata": {},
   "outputs": [
    {
     "name": "stdout",
     "output_type": "stream",
     "text": [
      "34\n"
     ]
    }
   ],
   "source": [
    "# question 9\n",
    "\n",
    "def maximum(a, b, c): \n",
    " \n",
    "    if (a >= b) and (a >= c): \n",
    "        largest = a \n",
    " \n",
    "    elif (b >= a) and (b >= c): \n",
    "        largest = b \n",
    "    else: \n",
    "        largest = c \n",
    "         \n",
    "    return largest \n",
    " \n",
    "a = 34\n",
    "b = 12\n",
    "c = 7\n",
    "print(maximum(a, b, c)) \n"
   ]
  },
  {
   "cell_type": "code",
   "execution_count": 10,
   "id": "bbc2d840",
   "metadata": {},
   "outputs": [
    {
     "name": "stdout",
     "output_type": "stream",
     "text": [
      "* \n",
      "* * \n",
      "* * * \n",
      "* * * * \n",
      "* * * * * \n",
      "* * * * \n",
      "* * * \n",
      "* * \n",
      "* \n",
      "\n"
     ]
    }
   ],
   "source": [
    "# question 10\n",
    "\n",
    "rows = 5\n",
    "\n",
    "for i in range(0, rows):\n",
    "    for j in range(0, i + 1):\n",
    "        print('*', end = ' ')\n",
    "    print()\n",
    "\n",
    "for i in range(rows - 1, -1, -1):\n",
    "    for j in range(0, i):\n",
    "        print('*', end = ' ')\n",
    "    print()\n"
   ]
  },
  {
   "cell_type": "code",
   "execution_count": null,
   "id": "1d2c9985",
   "metadata": {},
   "outputs": [],
   "source": [
    " # Assignment set 2"
   ]
  },
  {
   "cell_type": "code",
   "execution_count": 9,
   "id": "01fd78de",
   "metadata": {},
   "outputs": [
    {
     "name": "stdout",
     "output_type": "stream",
     "text": [
      "34\n"
     ]
    }
   ],
   "source": [
    "# question 2\n",
    "\n",
    "def maximum(a, b, c): \n",
    " \n",
    "    if (a >= b) and (a >= c): \n",
    "        largest = a \n",
    " \n",
    "    elif (b >= a) and (b >= c): \n",
    "        largest = b \n",
    "    else: \n",
    "        largest = c \n",
    "         \n",
    "    return largest \n",
    " \n",
    "a = 34\n",
    "b = 12\n",
    "c = 7\n",
    "print(maximum(a, b, c)) \n"
   ]
  },
  {
   "cell_type": "code",
   "execution_count": 2,
   "id": "c2f2bb78",
   "metadata": {},
   "outputs": [
    {
     "name": "stdout",
     "output_type": "stream",
     "text": [
      "5 degree Celsius is equal to 41.0 degree Fahrenheit.\n"
     ]
    }
   ],
   "source": [
    "# question 9\n",
    "\n",
    "celsius = 5\n",
    "fahrenheit = (celsius * 1.8) + 32\n",
    "print(str(celsius )+ \" degree Celsius is equal to \" + str(fahrenheit )+ \" degree Fahrenheit.\")\n"
   ]
  },
  {
   "cell_type": "code",
   "execution_count": 3,
   "id": "0fa2db23",
   "metadata": {},
   "outputs": [
    {
     "name": "stdout",
     "output_type": "stream",
     "text": [
      "41degree fahrenheit is equal to 5.0 degree fahrenheit \n"
     ]
    }
   ],
   "source": [
    "fahrenheit = 41\n",
    "celsius = (fahrenheit-32)/1.8\n",
    "print(str(fahrenheit) + \"degree fahrenheit is equal to \" + str(celsius)+\" degree fahrenheit \")"
   ]
  },
  {
   "cell_type": "code",
   "execution_count": 10,
   "id": "f06587e8",
   "metadata": {},
   "outputs": [
    {
     "name": "stdout",
     "output_type": "stream",
     "text": [
      "1 - odd\n",
      "2 -even\n",
      "3 - odd\n",
      "4 -even\n",
      "5 - odd\n",
      "6 -even\n",
      "7 - odd\n",
      "8 -even\n",
      "9 - odd\n",
      "10 -even\n",
      "11 - odd\n",
      "12 -even\n",
      "13 - odd\n",
      "14 -even\n",
      "15 - odd\n"
     ]
    }
   ],
   "source": [
    "# question 8\n",
    "\n",
    "\n",
    "i = 1\n",
    "while i <= 15:\n",
    "    if i%2==0:\n",
    "        print(i,\"-even\")\n",
    "       \n",
    "    else:\n",
    "            print(i,\"- odd\")\n",
    "        \n",
    "    \n",
    "    i = i+1"
   ]
  },
  {
   "cell_type": "code",
   "execution_count": 16,
   "id": "240d1c49",
   "metadata": {},
   "outputs": [
    {
     "name": "stdout",
     "output_type": "stream",
     "text": [
      "The new list is: [2, 1, 3, 1]\n",
      "The sum of squares of list is : 15\n"
     ]
    }
   ],
   "source": [
    "# question 7\n",
    "\n",
    "\n",
    "list = [2,1,3,1]\n",
    "print(\"The new list is: \"+ str(list))\n",
    "res = sum(map(lambda i: i * i, list))\n",
    "\n",
    "print(\"The sum of squares of list is : \" + str(res))\n"
   ]
  },
  {
   "cell_type": "code",
   "execution_count": 17,
   "id": "ece9b2a2",
   "metadata": {},
   "outputs": [
    {
     "name": "stdout",
     "output_type": "stream",
     "text": [
      "2\n"
     ]
    }
   ],
   "source": [
    "# question 6\n",
    "\n",
    "def most_frequent(List):\n",
    "    return max(set(List), key = List.count)\n",
    "\n",
    "List = [2,3,4,2,5,2]\n",
    "print(most_frequent(List))\n",
    "\n"
   ]
  },
  {
   "cell_type": "code",
   "execution_count": 25,
   "id": "f1bd32bc",
   "metadata": {},
   "outputs": [
    {
     "name": "stdout",
     "output_type": "stream",
     "text": [
      " \n",
      "Fizz\n",
      " \n",
      "Fizz\n",
      "Buzz\n",
      "Fizz\n",
      " \n",
      "Fizz\n",
      " \n",
      "Fizz\n"
     ]
    }
   ],
   "source": [
    "# question 5\n",
    "i = 1\n",
    "while i <= 10:\n",
    "    if i%2==0:\n",
    "        print(\"Fizz\")\n",
    "    elif i%5==0 :\n",
    "            print(\"Buzz\")\n",
    "   # elif i%=2==0 and i%=5==o:\n",
    "           # print(\"FizzBuzz\")\n",
    "\n",
    "    else:\n",
    "            print(\" \")\n",
    "        \n",
    "    \n",
    "    i = i+1"
   ]
  },
  {
   "cell_type": "code",
   "execution_count": 29,
   "id": "881378d4",
   "metadata": {},
   "outputs": [
    {
     "name": "stdout",
     "output_type": "stream",
     "text": [
      "Sum of cubes smaller than the specified number:  36\n"
     ]
    }
   ],
   "source": [
    "# QUESTION 4\n",
    "\n",
    "\n",
    "def sum_of_cubes(n):\n",
    "    \n",
    "    n -= 1\n",
    "    \n",
    "    total = 0\n",
    "    \n",
    "    while n > 0:\n",
    "        \n",
    "        total += n * n * n\n",
    "        \n",
    "        n -= 1\n",
    "    \n",
    "    \n",
    "    return total\n",
    "\n",
    "\n",
    "print(\"Sum of cubes smaller than the specified number: \", sum_of_cubes(4))\n"
   ]
  },
  {
   "cell_type": "markdown",
   "id": "2ee2b405",
   "metadata": {},
   "source": []
  },
  {
   "cell_type": "code",
   "execution_count": null,
   "id": "e37b25ce",
   "metadata": {},
   "outputs": [],
   "source": []
  }
 ],
 "metadata": {
  "kernelspec": {
   "display_name": "Python 3 (ipykernel)",
   "language": "python",
   "name": "python3"
  },
  "language_info": {
   "codemirror_mode": {
    "name": "ipython",
    "version": 3
   },
   "file_extension": ".py",
   "mimetype": "text/x-python",
   "name": "python",
   "nbconvert_exporter": "python",
   "pygments_lexer": "ipython3",
   "version": "3.11.5"
  }
 },
 "nbformat": 4,
 "nbformat_minor": 5
}
